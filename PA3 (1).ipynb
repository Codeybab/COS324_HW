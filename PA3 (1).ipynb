{
 "cells": [
  {
   "cell_type": "markdown",
   "metadata": {},
   "source": [
    "# Programming Assignment 3: Clustering\n"
   ]
  },
  {
   "cell_type": "markdown",
   "metadata": {},
   "source": [
    "<ins>Background/Intuition:<ins>\n",
    "\n",
    "As we progress into the age of digital information, the amount of data available for us to work with is staggering. You can peruse a billion images through google search, or query millions of songs with Spotify's API. However, while this data is in abundance, **labels** for it are usually a lot harder to come by. Suppose you wanted to group songs into subjective categories of 'chill and relaxing' versus 'upbeat and energetic'.\n",
    "\n",
    "You might process these songs and generate some potentially relevant quantifiers, say the average pitch of the song (lower = more bass, higher = more treble) and its average amplitude (lower = quieter, higher = louder). \n",
    "\n",
    "| Song | Average Pitch | Average Amplitude |\n",
    "| --- | --- | --- |\n",
    "| Typhoons, Royal Blood  | -18.1 | 19.6 |\n",
    "| Waltz No. 2, Shostakovich | -7.6 | 11.2 |\n",
    "| Sandstorm, Darude | 16.2 | 18.6 |\n",
    "| ... | ... | ... |\n",
    "<font size=\"1\">Note: Not real data</font>\n",
    "\n",
    "But unless you're willing to pay some music-appreciators a lot of money to listen to and review every song (of potentially millions of songs), there's no easy way to get definitive labels of 'relaxing' versus 'upbeat' for this data. Instead we turn towards **unsupervised** learning.\n",
    "    \n",
    "If we can cluster these songs into groups of similar pitch and amplitudes, even without labels we might be able to learn a lot about their distribution. We could listen to five or six songs from a cluster of thousands to get a good understanding of what kind of music it represents. And if we have a labeled song, maybe your favorite upbeat track for when you're at the gym, we can look at what cluster it gets put into and explore if the other songs in the cluster are also good upbeat tracks for the gym (this is not unlike the way real music services give you recommendations based off your listening habits).\n",
    "    \n",
    "Now that we've hopefully sold you on the excitement of unsupervised clustering, let's write our own k-means implementation and run it on some real data.\n",
    "    \n",
    "<ins>Format of this PA:<ins>\n",
    "1. Debugging Practice\n",
    "2. K-Means Helper Functions\n",
    "3. Run K-Means on Simulated Data\n",
    "4. Run K-Means on MNIST Image Data"
   ]
  },
  {
   "cell_type": "markdown",
   "metadata": {},
   "source": [
    "### ACT 1: Before We Make Code, We Un-Break Code"
   ]
  },
  {
   "cell_type": "markdown",
   "metadata": {},
   "source": [
    "#### 1A: Sums and Prods\n",
    "In the code below, we are trying to sum the columns of `X`, and then matrix multiply them with `y` to produce `Q` similar to the example below:\n",
    "\n",
    "$$\n",
    "X = \n",
    "\\begin{bmatrix}\n",
    "    x_{11} & x_{12} \\\\\n",
    "    x_{21} & x_{22}\n",
    "\\end{bmatrix}, \\quad\n",
    "y = \n",
    "\\begin{bmatrix}\n",
    "    y_{1} \\\\\n",
    "    y_{2}\n",
    "\\end{bmatrix}\n",
    "$$\n",
    "\n",
    "$$\n",
    "Q = \n",
    "\\begin{bmatrix}\n",
    "    x_{11} + x_{12} \\\\\n",
    "    x_{21} + x_{22}\n",
    "\\end{bmatrix} \n",
    "\\begin{bmatrix}\n",
    "    y_{1} & y_{2}\n",
    "\\end{bmatrix}\n",
    "=\n",
    "\\begin{bmatrix}\n",
    "    (x_{11} + x_{12})y_{1} & (x_{11} + x_{12})y_{2} \\\\\n",
    "    (x_{21} + x_{22})y_{1} & (x_{21} + x_{22})y_{2}\n",
    "\\end{bmatrix} \n",
    "$$\n"
   ]
  },
  {
   "cell_type": "code",
   "execution_count": null,
   "metadata": {},
   "outputs": [],
   "source": [
    "import numpy as np\n",
    "\n",
    "X = np.array([[1,2,3],\n",
    "              [4,5,6],\n",
    "              [7,8,9]])\n",
    "y = np.array([[0, 2, 1]])\n",
    "\n",
    "def broken_sum_prod(X, y):\n",
    "    X_sum = np.sum(X, axis=1)\n",
    "\n",
    "    Q = X_sum @ y\n",
    "    return Q\n",
    "    "
   ]
  },
  {
   "cell_type": "markdown",
   "metadata": {},
   "source": [
    "But when we run this code, all we get is a `ValueError`, seems something went wrong with our dimensions."
   ]
  },
  {
   "cell_type": "code",
   "execution_count": null,
   "metadata": {},
   "outputs": [],
   "source": [
    "broken_sum_prod(X,y)"
   ]
  },
  {
   "cell_type": "markdown",
   "metadata": {},
   "source": [
    "Investigate the shape of `X_sum` and see if you can find an argument in the documentation of [np.sum](https://numpy.org/doc/stable/reference/generated/numpy.sum.html) that can fix this error."
   ]
  },
  {
   "cell_type": "code",
   "execution_count": null,
   "metadata": {
    "tags": []
   },
   "outputs": [],
   "source": [
    "# ACT 1A: fix this code\n",
    "def fixed_sum_prod(X, y):\n",
    "    X_sum = np.sum(X, axis=1).reshape((3,1))\n",
    "    Q = X_sum @ y\n",
    "    return Q"
   ]
  },
  {
   "cell_type": "code",
   "execution_count": 248,
   "metadata": {},
   "outputs": [
    {
     "data": {
      "text/plain": [
       "array([[ 0,  6,  3],\n",
       "       [ 0, 18,  9],\n",
       "       [ 0, 30, 15]])"
      ]
     },
     "execution_count": 248,
     "metadata": {},
     "output_type": "execute_result"
    }
   ],
   "source": [
    "fixed_sum_prod(X,y)"
   ]
  },
  {
   "cell_type": "markdown",
   "metadata": {},
   "source": [
    "#### 1B: Take A Long Axis\n",
    "It's often best to correct errors before we make them. Later in this assignment we will be interested in using the function [np.take_along_axis](https://numpy.org/doc/stable/reference/generated/numpy.take_along_axis.html) to extract elements at desired indices from a matrix. You might want to familiarize yourself with its documentation before proceeding.\n",
    "\n",
    "Here we attempt to use `indices` to index into `arr` to retrieve the values `[[1],[6],[8]]`; the 0th, 2nd, and 1st values in the respective rows."
   ]
  },
  {
   "cell_type": "code",
   "execution_count": 210,
   "metadata": {},
   "outputs": [],
   "source": [
    "arr = np.array([[1,2,3],\n",
    "              [4,5,6],\n",
    "              [7,8,9]])\n",
    "indices = np.array([0, 2, 1])"
   ]
  },
  {
   "cell_type": "code",
   "execution_count": null,
   "metadata": {},
   "outputs": [],
   "source": [
    "np.take_along_axis(arr, indices, axis=1)"
   ]
  },
  {
   "cell_type": "markdown",
   "metadata": {},
   "source": [
    "We appear to have ran into a dimension error, lets look at the shapes of `arr` and `indices` and investigate."
   ]
  },
  {
   "cell_type": "code",
   "execution_count": 212,
   "metadata": {},
   "outputs": [
    {
     "name": "stdout",
     "output_type": "stream",
     "text": [
      "(3, 3)\n",
      "(3,)\n"
     ]
    }
   ],
   "source": [
    "print(arr.shape)\n",
    "print(indices.shape)"
   ]
  },
  {
   "cell_type": "markdown",
   "metadata": {},
   "source": [
    "Looking back at the documentation we spot that for the `indices` variable there's a descriptor `\"This must match the dimension of arr, but dimensions Ni and Nj only need to broadcast against arr.\"`. Though the latter part sounds cryptic, the beginning (`must match the dimension of arr`) is pretty clear. Our `arr` is two dimensional and our `indices` are a 1D vector, let's try fixing that."
   ]
  },
  {
   "cell_type": "code",
   "execution_count": 213,
   "metadata": {},
   "outputs": [],
   "source": [
    "indices = np.array([[0, 2, 1]])"
   ]
  },
  {
   "cell_type": "code",
   "execution_count": 214,
   "metadata": {},
   "outputs": [
    {
     "data": {
      "text/plain": [
       "array([[1, 3, 2],\n",
       "       [4, 6, 5],\n",
       "       [7, 9, 8]])"
      ]
     },
     "execution_count": 214,
     "metadata": {},
     "output_type": "execute_result"
    }
   ],
   "source": [
    "np.take_along_axis(arr, indices, axis=1)"
   ]
  },
  {
   "cell_type": "markdown",
   "metadata": {},
   "source": [
    "Hmm, this is strange; we seem to be taking the 0th **and** the 2nd **and** the 1st element of each row, something still isn't right. See if you can figure out what's going on, and get the function call to return just `[[1],[6],[8]]`."
   ]
  },
  {
   "cell_type": "code",
   "execution_count": 249,
   "metadata": {},
   "outputs": [
    {
     "data": {
      "text/plain": [
       "array([[1],\n",
       "       [6],\n",
       "       [8]])"
      ]
     },
     "execution_count": 249,
     "metadata": {},
     "output_type": "execute_result"
    }
   ],
   "source": [
    "# ACT 1B: fix this code\n",
    "indices = np.array([[0], [2], [1]])\n",
    "np.take_along_axis(arr, indices, axis=1)"
   ]
  },
  {
   "cell_type": "markdown",
   "metadata": {},
   "source": [
    "What was the error? Do we now have a better understanding of `dimensions Ni and Nj only need to broadcast against arr`? (think about how the dimensions of `indices` affect the output)"
   ]
  },
  {
   "cell_type": "markdown",
   "metadata": {},
   "source": [
    "#### <span style='color:cyan'>  Your answer here: We needed the indices to cast at each row</span>"
   ]
  },
  {
   "cell_type": "markdown",
   "metadata": {
    "id": "G51D7fBUQCJ5"
   },
   "source": [
    "---\n",
    "\n",
    "## Clustering Overview\n",
    "\n",
    "In this assignment we'll implement k-means clustering. Let's call our input data $X$, the cluster centers $W$, and the number of clusters $k$. Each row of $X$ is a data point, each row of $W$ is the coordinates of a cluster center (a centroid). The goal of this algorithm is to minimize the distance between every data point and its closest centroid.\n",
    "\n",
    "In this k-means implementation, our loss is **the mean of square euclidean distances** between each point and its closest centroid. More precisely, if our centroids are $\\mathbf{w}_1, \\ldots, \\mathbf{w}_k$ and our points are $\\mathbf{x}_1, \\ldots, \\mathbf{x}_n$, then our loss (averaged over n points) is:\n",
    "$$\\frac{1}{n}\\sum_{i=1}^n \\min_j ||\\mathbf{x}_i - \\mathbf{w}_j||^2, $$\n",
    "\n",
    "where the $\\min_j$ just means we incur loss only to the closest centroid $j$, and discard the distance to any centroids that aren't $j$.  \n",
    "\n",
    "As we saw in lecture this objective can also be written as:\n",
    "$$\n",
    "\\frac{1}{n}\\sum_{j=1}^{k} \\sum_{i \\in C_{j}}\\left\\|\\mathbf{x}_i - \\mathbf{w}_j\\right\\|^{2}\n",
    "$$\n",
    "Where $C_j$ is the set of points belonging to cluster $j$, and $k$ is again the total number of clusters.\n",
    "\n",
    "**Note:** This loss is **not exactly the same** as the one covered in lecture, which minimized the sum of square distances rather than the mean. We opt to use the mean of the distances so that we can later compare training and validation losses for different numbers of datapoints. \n",
    "\n",
    "  \n",
    "To implement this in code, you will create a method to compute pairwise distances between data points and centroids, along with a method that re-estimates the centroids after each step. We'll need a way to associate which point belongs to which centroid (which we'll achieve through a method `associate()`), and lastly a method to randomly initialize the centroids.\n"
   ]
  },
  {
   "cell_type": "markdown",
   "metadata": {
    "id": "0HjxGtR1QCJ5"
   },
   "source": [
    "---\n",
    "\n",
    "# Implementing K-means"
   ]
  },
  {
   "cell_type": "markdown",
   "metadata": {
    "id": "3zAJRmGgQCJ5"
   },
   "source": [
    "### ACT 2: Step-by-step for `compute_sq_dists`\n",
    "\n",
    "For `compute_sq_dists`, your goal is to find the squared distance between each point and each centroid. We ultimately want a 2-D array where the $(i, j)$-th entry is the squared distance between $\\mathbf{x}_i$ and $\\mathbf{w}_j$. **Looping through each example in X is too slow, so we'll do this with vectorized Numpy operations**. <p>\n",
    "\n",
    "Let $\\mathbf{x}_i$ and $\\mathbf{w}_j$ be the $i$-th and $j$-th rows of $X$ and $W$ respectively. We'd like to find the squared distance between each point and each cluster centroid: this helps compute the square loss, and to find the closest centroid we will just choose the centroid with the smallest square distance. Now, a cool math trick! It turns out that:\n",
    "    \n",
    "$$||\\mathbf{x}_i - \\mathbf{w}_j||^2 = ||\\mathbf{x}_i||^2 + ||\\mathbf{w}_j||^2 - 2\\mathbf{x}_i\\cdot \\mathbf{w}_j$$\n",
    "\n",
    "To find the squared distance between each point and each centroid, first we compute the squared norm of each row of X (corresponding to $||\\mathbf{x}_i||^2$ in the above equation) and the squared norm of each row in W ($||\\mathbf{w}_j||^2$). We can make a matrix where the $(i,j)$-th entry is $||\\mathbf{x}_i||^2 + ||\\mathbf{w}_j||^2$ by summing a column of X's row-norms with a row of W's row-norms. Recall that python + Numpy will automatically perform [broadcasting](https://numpy.org/doc/stable/user/basics.broadcasting.html) if one is a column vector and the other a row vector. <p>\n",
    "\n",
    "To find $\\mathbf{x\\cdot w}$, we multiply $\\mathsf{X W^T}$, which results in an array where the in\n",
    "$(i, j)$-th entry equals $\\mathbf{x}_i\\cdot\\mathbf{w}_j$, the inner product of the $i$-th row of X\n",
    "with the $j$-th row of W. <p>\n",
    "    \n",
    "*Reminder: no for loops.*"
   ]
  },
  {
   "cell_type": "code",
   "execution_count": 250,
   "metadata": {},
   "outputs": [],
   "source": [
    "#ACT 2 squared distance_matrix.  Use the trick described above to compute the distance matrix using vectorization.\n",
    "def compute_sq_dists(X, W):\n",
    "    '''\n",
    "    Inputs: \n",
    "    X is a 2-D Numpy array of shape (n, d), each row is a data point\n",
    "    W is a 2-D Numpy array of shape (k, d), each row is a cluster centroid\n",
    "\n",
    "    Output:\n",
    "    2-D Numpy array of shape (n, k) where the i,j-th entry represents the squared euclidean distance \n",
    "    from the ith row of X to the jth row of W. \n",
    "    '''\n",
    "    Xnorm = np.sum(X**2, axis = 1, keepdims = True)\n",
    "    Wnorm = np.sum(W**2, axis = 1, keepdims = True)\n",
    "    sq_dists1  = (Xnorm  + np.transpose(Wnorm))\n",
    "    sq_dists = sq_dists1 - (2 *(X@np.transpose(W)))\n",
    "    \n",
    "    return sq_dists"
   ]
  },
  {
   "cell_type": "markdown",
   "metadata": {
    "id": "i7dBlem8QCJ6"
   },
   "source": [
    "### ACT 3: Tips for `update_centroids`\n",
    "\n",
    "Given data points `X` and vector `assoc`, an array of length `n` with containing values ranging from `0` to `k` which indicates which data point is *associated* to what cluster, our goal is to return a matrix of `k` new centroids, where the value of each centroid is the mean of its associated points.\n",
    "\n",
    "Using the notation from lecture, the new centroid location for points belonging to cluster $C_j$ is:\n",
    "\n",
    "$$\n",
    " \\mathbf{w}_j = \\overline{\\mathrm{x}}\\left(\\mathrm{C}_{\\mathrm{j}}\\right)=\\frac{1}{\\mathrm{~m}_{\\mathrm{j}}} \\sum_{\\mathrm{i} \\in \\mathrm{C}_{\\mathrm{j}}}  \\mathbf{x}_i \\quad\\left(\\mathrm{m}_{\\mathrm{j}}=\\left|\\mathrm{C}_{\\mathrm{j}}\\right|\\right)\n",
    "$$\n",
    "\n",
    "\n",
    "In this act (**and only in this act**) it is okay to loop over `k`, the number of clusters, as this can reduce the complexity of the code. You're still encouraged to solve this without loops, and cannot loop over the number of data points `n` as this will grow prohibitively slow for large `n`.\n",
    "\n",
    "</font>"
   ]
  },
  {
   "cell_type": "code",
   "execution_count": 251,
   "metadata": {
    "id": "wIDiRejyQCJ6"
   },
   "outputs": [],
   "source": [
    "#ACT 3 Implement update_centroids, computing the means of our most recent clusters\n",
    "def update_centroids(X, k, assoc):\n",
    "    '''\n",
    "    Inputs: \n",
    "    X is a 2-D Numpy array of shape (n, d), each row is a data point\n",
    "    k is the number of clusters\n",
    "    assoc is a 1-D array of size n indicating the center closest to each point\n",
    "\n",
    "    Output:\n",
    "    A 2-D array of cluster centroids size (k,d), where each row is a centroid.\n",
    "    If there are no points associated with a cluster, this should return \n",
    "    all zeros for that row/cluster.\n",
    "    '''\n",
    "       \n",
    "    # your code here\n",
    "    W = np.zeros((k, X.shape[1]))\n",
    "     \n",
    "    for i in range (0,k):\n",
    "        xrange = len(X[assoc == i])\n",
    "        summ = np.sum(X[assoc == i],axis =0)\n",
    "        if(xrange == 0):\n",
    "            W[i] = 0 \n",
    "        else: \n",
    "            W[i] = summ/xrange\n",
    "    return W"
   ]
  },
  {
   "cell_type": "markdown",
   "metadata": {
    "id": "M4sr5nZ0QCJ8"
   },
   "source": [
    "### Act 4: Find centers associated with each data point given distances from each point to each center.\n",
    "In `associate_centroids` we will find which centroid each data point is closest to, and also return the loss for convenience. W should first compute the square distances to each point, using a function we defined above, then use that to create the `assoc` vector as defined above/below. This can then be used to compactly estimate our overall loss (copied here for convenience, **reminder**: this is not exactly the lecture loss, we're taking the average over the number of points $n$ here).\n",
    "\n",
    "$$\n",
    "\\frac{1}{n}\\sum_{j=1}^{k} \\sum_{i \\in C_{j}}\\left\\|x^{i}-\\bar{x}\\left(C_{j}\\right)\\right\\|^{2}\n",
    "$$\n",
    "\n",
    "For computing the loss, you might need [np.take_along_axis](https://numpy.org/doc/stable/reference/generated/numpy.take_along_axis.html) from earlier.  \n",
    "**Hint:** see also [np.expand_dims](https://numpy.org/doc/stable/reference/generated/numpy.expand_dims.html) and [np.squeeze](https://numpy.org/doc/stable/reference/generated/numpy.squeeze.html)."
   ]
  },
  {
   "cell_type": "code",
   "execution_count": 252,
   "metadata": {
    "id": "dSjaA5xvQCJ8"
   },
   "outputs": [],
   "source": [
    "#ACT 4 Using the distance matrix find centers associated with each point and compute loss\n",
    "def associate_centroids(X, W):\n",
    "    '''\n",
    "    Inputs:\n",
    "    X is a 2-D Numpy array of shape (n, d), each row is a data point\n",
    "    W is a 2-D Numpy array of shape (k, d), each row is a cluster centroid\n",
    "\n",
    "    Output:\n",
    "    (loss, assoc) where \n",
    "    assoc is a 1-D array of size n indicating the center closest to each point\n",
    "    loss is the average loss of the data from those associations.\n",
    "    '''\n",
    "    \n",
    "    #### ACT 4A Compute the *indices* `assoc` corresponding to minimum entry in each row of dists\n",
    "    \n",
    "    # your code here\n",
    "    sq_dists = compute_sq_dists(X,W)\n",
    "    assoc = np.argmin(sq_dists, axis = 1)\n",
    "\n",
    "    ###   ACT4B ### Use `assoc` to get values from X and calculate loss\n",
    "    calloss = np.take_along_axis(sq_dists, assoc[:, None], axis = 1)\n",
    "    loss = np.mean(calloss)\n",
    "    \n",
    "    return loss, assoc"
   ]
  },
  {
   "cell_type": "markdown",
   "metadata": {
    "id": "39asvdkKQCJ8"
   },
   "source": [
    "### Act 5: Implement random initialization of centroid\n",
    "\n",
    "To start running k-means we need starting points to use as centroids. Use [np.random.choice](https://numpy.org/doc/stable/reference/random/generated/numpy.random.choice.html) to select `k` random data points from `X` to use as initial centroids. We want to make sure our selected initialization points are *unique*, i.e. we don't accidentally pick the same point twice; [np.random.choice](https://numpy.org/doc/stable/reference/random/generated/numpy.random.choice.html) should have an argument that guarantees this."
   ]
  },
  {
   "cell_type": "code",
   "execution_count": 253,
   "metadata": {
    "id": "77kPxsfUQCJ8"
   },
   "outputs": [],
   "source": [
    "# ACT 5 random initialization\n",
    "def rand_init(X,k):\n",
    "    '''\n",
    "    Inputs: \n",
    "    X is a 2-D Numpy array of shape (n, d), each row is a data point\n",
    "    k is the number of clusters\n",
    "    Outputs:\n",
    "    C a 2-D Numpy array of shape (k, d) of random points at which to initialise centroids\n",
    "    '''\n",
    "    \n",
    "    # your code here\n",
    "    C = X[np.random.choice(X.shape[0], k, replace = False), :]\n",
    "    return C"
   ]
  },
  {
   "cell_type": "markdown",
   "metadata": {
    "id": "AJpHMitGQCJ9"
   },
   "source": [
    "### Act 6: Putting everything together.  \n",
    "\n",
    "Implement the main iteration loop, alternating between associating data points to their nearest center, and estimating new centers. Remember to keep track of the loss at each iteration, and add an epsilon stopping criterion (if the loss hasn't decreased by more than epsilon since the previous iteration -- proportional to the current loss -- break the loop).\n",
    "\n",
    "For more clarification, your stopping criterion should for iteration $t$ check if:\n",
    "$$\n",
    "\\frac{\\mathrm{loss}_{t-1} - \\mathrm{loss}_{t}}{\\mathrm{loss}_{t}} \\lt \\epsilon\n",
    "$$"
   ]
  },
  {
   "cell_type": "code",
   "execution_count": 254,
   "metadata": {
    "id": "hFgiMHwdQCJ9"
   },
   "outputs": [],
   "source": [
    "# ACT 6 implement the K-means loop\n",
    "def k_means(X, k, max_iters=50, eps=1e-5):\n",
    "    '''\n",
    "    Perform k-means clusting on X using k clusters, running for max_iters loops,\n",
    "    and stop early if loss decreases by a proportion less than eps.  \n",
    "    Early stopping does not occur before epoch 2.\n",
    "\n",
    "    Output (W, loss) the final centers W and the last iteration's loss\n",
    "    '''\n",
    "    \n",
    "    # your code here\n",
    "    losst = np.zeros(max_iters)\n",
    "    W = rand_init(X,k)\n",
    "    for i in range(max_iters):\n",
    "        losst[i], assoc = associate_centroids(X,W)\n",
    "        loss = losst[i]\n",
    "        func = (losst[i-1] - losst[i])/losst[i]\n",
    "        if(i > 0 and func < eps):\n",
    "            break\n",
    "        W = update_centroids(X,k,assoc)\n",
    "    \n",
    "    return W, loss"
   ]
  },
  {
   "cell_type": "markdown",
   "metadata": {
    "id": "S7BoPyOIQCJ4"
   },
   "source": [
    "---\n",
    "### K-means Scatter Plot Helper Function\n",
    "  \n",
    "**This has been written for you.** <p>\n",
    "\n",
    "* Read the code and understand it from a high-level point of view. <br>\n",
    "* Understand how to call this function"
   ]
  },
  {
   "cell_type": "code",
   "execution_count": 255,
   "metadata": {
    "id": "SeK0e5weQCJ4"
   },
   "outputs": [],
   "source": [
    "import matplotlib.pyplot as plt\n",
    "import numpy as np\n",
    "from scipy.linalg import eigh\n",
    "np.random.seed(324)\n",
    "\n",
    "# Purpose:\n",
    "# --------\n",
    "# Plot d-dimensional sample in 2D with cluster indicators (uses PCA to lower dimension from d to 2)\n",
    "#\n",
    "# How to call:\n",
    "# ------------\n",
    "# X is the examples: each row is an example\n",
    "# C is a 1-d array of associated centroid index (integers):\n",
    "#    Each entry in C corresponds to a row in X, so len(C) = X.shape[0]\n",
    "#    OR\n",
    "#    C = [] means only data visualization w/o centroids\n",
    "#\n",
    "#\n",
    "# Additional paramters (do not change unless instructed):\n",
    "# bb is the bounding box\n",
    "# `colors` indicates the colors: the default colors the \n",
    "#     first cluster `b` or blue, next cluster `g` or green, etc.\n",
    "# \n",
    "def plot_sample(X, C, bb=[], ms=10, colors='bgrcmk'):\n",
    "    plt.figure(figsize=(12,6))\n",
    "    plt.subplot(1,2,1)\n",
    "\n",
    "    from itertools import cycle\n",
    "    if X.shape[1] > 2:\n",
    "        err_str = \"X contains {}-dimensional points. Data points must be 2-dimensional.\".format(X.shape[1])\n",
    "        raise Exception(err_str)\n",
    "    if len(C) == 0: C = np.ones(X.shape[0])\n",
    "    k = int(C.max()) + 1\n",
    "    if bb != []:\n",
    "        plt.xlim(bb[0]), plt.ylim(bb[1])\n",
    "    cycol = cycle(colors)\n",
    "    for i in range(k):\n",
    "        ind = C == i\n",
    "        col = next(cycol)\n",
    "        plt.scatter(X[ind,0], X[ind,1], s=ms, c=col)\n",
    "    plt.show()"
   ]
  },
  {
   "cell_type": "markdown",
   "metadata": {
    "id": "0l1qG7mMQCJ9"
   },
   "source": [
    "## Experimenting With Synthetic Data\n",
    "\n",
    "Now that we've implemented k-means clustering, let's run an experiment on simulated data.  \n",
    "First let's visualize the data (something you should get in the habit of):"
   ]
  },
  {
   "cell_type": "code",
   "execution_count": 256,
   "metadata": {
    "id": "4thIZ8mXQCJ9",
    "outputId": "56f0692b-aa04-4215-cab2-181940d9a574",
    "scrolled": true
   },
   "outputs": [
    {
     "data": {
      "image/png": "[encoded data removed]",
      "text/plain": [
       "<Figure size 864x432 with 1 Axes>"
      ]
     },
     "metadata": {
      "needs_background": "light"
     },
     "output_type": "display_data"
    }
   ],
   "source": [
    "Xt = np.load(\"simulated_data.npy\")\n",
    "N = len(Xt) # number of samples\n",
    "split = int(0.8*N) # keep 80% for train, 20% for val\n",
    "\n",
    "Xt_train = Xt[0:split,:]\n",
    "Xt_val= Xt[split:,:]\n",
    "_ = plot_sample(Xt_train, [])"
   ]
  },
  {
   "cell_type": "markdown",
   "metadata": {},
   "source": [
    "How many clusters does it look like the data can/should be split into? Why did you pick that number?  \n",
    "(Optional, what could these clusters be if these points corresponded to our song data as described at the start?)"
   ]
  },
  {
   "cell_type": "markdown",
   "metadata": {},
   "source": [
    "#### <span style='color:cyan'>  Your answer here: WE see 3 distinct groupings so i think splitting into 3 is the right way to go  </span> "
   ]
  },
  {
   "cell_type": "markdown",
   "metadata": {
    "id": "nTczzg_FQCJ-"
   },
   "source": [
    "### ACT 7: running k-means on simulated data\n",
    "Run your k-means function on the training data `Xt_train`, report the loss vector and use `plot_sample` to plot the clusters.  \n",
    "**Run each cell multiple times to see how the random initialization changes the final clusters.**  \n",
    "**Name your vector of associated centroids** `assoc`**, this will be relevant later**"
   ]
  },
  {
   "cell_type": "code",
   "execution_count": 257,
   "metadata": {
    "id": "PK1Z8lAYQCJ-",
    "outputId": "229f9427-532f-4bf8-ec68-0c8844bc289b"
   },
   "outputs": [
    {
     "data": {
      "image/png": "[encoded data removed]",
      "text/plain": [
       "<Figure size 864x432 with 1 Axes>"
      ]
     },
     "metadata": {
      "needs_background": "light"
     },
     "output_type": "display_data"
    }
   ],
   "source": [
    "# ACT7a: Run k-means clustering on Xt_train, using k = 2 clusters\n",
    "W, loss = k_means(Xt_train, 2)\n",
    "loss1, assoc = associate_centroids(Xt_train, W)\n",
    "z = plot_sample(Xt_train, assoc)\n",
    "# your code here"
   ]
  },
  {
   "cell_type": "code",
   "execution_count": 258,
   "metadata": {
    "id": "ChU4gXDNQCJ-",
    "outputId": "acd9a37e-b07f-41c1-f812-7fd5b379d77c"
   },
   "outputs": [
    {
     "data": {
      "image/png": "[encoded data removed]",
      "text/plain": [
       "<Figure size 864x432 with 1 Axes>"
      ]
     },
     "metadata": {
      "needs_background": "light"
     },
     "output_type": "display_data"
    }
   ],
   "source": [
    "# ACT7b: Run k-means clustering on Xt_train, using k = 3 clusters\n",
    "W, loss = k_means(Xt_train, 3)\n",
    "lossb, assoc = associate_centroids(Xt_train, W)\n",
    "z = plot_sample(Xt_train, assoc)\n",
    "# your code here"
   ]
  },
  {
   "cell_type": "code",
   "execution_count": 259,
   "metadata": {
    "id": "9zfIUxxdQCJ_",
    "outputId": "adbcd4ca-ae96-4983-bebc-6ec029784871"
   },
   "outputs": [
    {
     "data": {
      "image/png": "[encoded data removed]",
      "text/plain": [
       "<Figure size 864x432 with 1 Axes>"
      ]
     },
     "metadata": {
      "needs_background": "light"
     },
     "output_type": "display_data"
    }
   ],
   "source": [
    "# ACT7c: Run k-means clustering on Xt_train, using k = 4 clusters\n",
    "# you might need to run this one several times to get the `expected` clusters\n",
    "W, loss = k_means(Xt_train, 4)\n",
    "lossc, assoc = associate_centroids(Xt_train, W)\n",
    "z = plot_sample(Xt_train, assoc)\n",
    "# your code here"
   ]
  },
  {
   "cell_type": "markdown",
   "metadata": {},
   "source": [
    "### ACT 8: Loss Curves\n",
    "Let's look at how our final loss changes as a function of `k`, the cluster count (i.e. let's see those elbow curves). For each `k` value in the range of `1,...,20` run k-means `20` times (to average out the variability from the initialization). Record the mean training and validation loss for each set of runs.\n",
    "\n",
    "Finally, make a **well-labeled** plot of training and validation losses versus `k`.\n",
    "\n",
    "**Hint:** you should never be running `k_means` on the validation dataset, *another function* you defined above can return you the validation loss given the centroid locations you learned from the training set"
   ]
  },
  {
   "cell_type": "code",
   "execution_count": 260,
   "metadata": {},
   "outputs": [
    {
     "data": {
      "text/plain": [
       "<matplotlib.legend.Legend at 0x2a54be3a248>"
      ]
     },
     "execution_count": 260,
     "metadata": {},
     "output_type": "execute_result"
    },
    {
     "data": {
      "image/png": "[encoded data removed]",
      "text/plain": [
       "<Figure size 432x288 with 1 Axes>"
      ]
     },
     "metadata": {
      "needs_background": "light"
     },
     "output_type": "display_data"
    }
   ],
   "source": [
    "# Act8: build elbow curve of train + val losses\n",
    "# Warning, this code should take 20-30 seconds to run; if it's taking forever, you probably didn't \n",
    "# vectorize your k-means code correctly (remember, no for loops over the data points)\n",
    "\n",
    "# your code here\n",
    "import matplotlib.pyplot as plt\n",
    "loss_tr = [0]*20\n",
    "loss_t = [0]*20\n",
    "train_mean = [0]*20\n",
    "val_mean = [0]*20\n",
    "\n",
    "\n",
    "k = np.array([i+1 for i in range(20)])\n",
    "for i in range(len(k)): \n",
    "    for j in range(len(k)):\n",
    "        W, loss_tr[j] = k_means(Xt_train, k[i])\n",
    "        loss_t[j], assoc = associate_centroids(Xt_val, W)\n",
    "    train_mean[i] = sum(loss_tr)/len(loss_tr)\n",
    "    val_mean[i] = sum(loss_t)/len(loss_t)     \n",
    "plt.xlabel(\"K\")\n",
    "plt.ylabel(\"loss\")\n",
    "plt.plot(k, train_mean)\n",
    "plt.plot(k, val_mean)\n",
    "plt.legend([\"train\",\"val\"])"
   ]
  },
  {
   "cell_type": "markdown",
   "metadata": {},
   "source": [
    "Around how many clusters do we see the *elbow* in the loss curve (look back to the lecture slides if you need a reminder on what the elbow is).  \n",
    "Does this make sense given your previous observations on the distribution of the data?"
   ]
  },
  {
   "cell_type": "markdown",
   "metadata": {},
   "source": [
    "#### <span style='color:cyan'>  Your answer here: 3 clusters in the loss curve is valid since there is three distinct groups of points </span>"
   ]
  },
  {
   "cell_type": "markdown",
   "metadata": {},
   "source": [
    "It looks like we can minimize both the validation and training loss by taking more and more clusters. Why would this be a bad idea in practice? Does having a ton of clusters likely **reduce** or **increase** our ability to infer useful information from the data?"
   ]
  },
  {
   "cell_type": "markdown",
   "metadata": {},
   "source": [
    "## Experimenting With MNIST Data\n",
    "\n",
    "Now that we understand some of the behavior of K-means for our simulated dataset, let's see how this extends to images of digits."
   ]
  },
  {
   "cell_type": "code",
   "execution_count": 261,
   "metadata": {},
   "outputs": [],
   "source": [
    "from sklearn.datasets import load_digits\n",
    "from sklearn.preprocessing import scale\n",
    "from sklearn.decomposition import PCA"
   ]
  },
  {
   "cell_type": "code",
   "execution_count": 262,
   "metadata": {},
   "outputs": [
    {
     "data": {
      "image/png": "[encoded data removed]",
      "text/plain": [
       "<Figure size 216x216 with 1 Axes>"
      ]
     },
     "metadata": {
      "needs_background": "light"
     },
     "output_type": "display_data"
    }
   ],
   "source": [
    "#Load the digits dataset\n",
    "digits = load_digits()\n",
    "\n",
    "#Display the first digit\n",
    "plt.figure(1, figsize=(3, 3))\n",
    "plt.imshow(digits.images[0], cmap=plt.cm.gray_r, interpolation='nearest')\n",
    "plt.show()"
   ]
  },
  {
   "cell_type": "code",
   "execution_count": 263,
   "metadata": {},
   "outputs": [],
   "source": [
    "# load digits zero and one\n",
    "X_digits, y_digits = load_digits(n_class=2, return_X_y=True)\n",
    "Xt = scale(X_digits)\n",
    "N = len(Xt)\n",
    "split = int(0.8*N) # keep 80% for train, 20% for val\n",
    "\n",
    "Xt_train = Xt[0:split,:]\n",
    "Xt_val= Xt[split:,:]"
   ]
  },
  {
   "cell_type": "code",
   "execution_count": 264,
   "metadata": {},
   "outputs": [],
   "source": [
    "# use PCA to reduce the data dimension to 2 for plotting\n",
    "reduced_data = PCA(n_components=2).fit_transform(Xt_train)"
   ]
  },
  {
   "cell_type": "markdown",
   "metadata": {},
   "source": [
    "Let's visualize this PCA-reduced data:"
   ]
  },
  {
   "cell_type": "code",
   "execution_count": 265,
   "metadata": {},
   "outputs": [
    {
     "data": {
      "image/png": "[encoded data removed]",
      "text/plain": [
       "<Figure size 864x432 with 1 Axes>"
      ]
     },
     "metadata": {
      "needs_background": "light"
     },
     "output_type": "display_data"
    }
   ],
   "source": [
    "_ = plot_sample(reduced_data, [])"
   ]
  },
  {
   "cell_type": "markdown",
   "metadata": {},
   "source": [
    "Does this data look *clusterable*? How many clusters do we expect? Why does this make sense given the data we loaded above?"
   ]
  },
  {
   "cell_type": "markdown",
   "metadata": {},
   "source": [
    "#### <span style='color:cyan'>  Your answer here:Yes it does, I think two since our input was 2D or 1 and 0s </span>"
   ]
  },
  {
   "cell_type": "markdown",
   "metadata": {},
   "source": [
    "### ACT 9: K-means on MNIST data\n",
    "Run your k-means clustering code on this data and plot the clusters."
   ]
  },
  {
   "cell_type": "code",
   "execution_count": 266,
   "metadata": {},
   "outputs": [
    {
     "data": {
      "image/png": "[encoded data removed]",
      "text/plain": [
       "<Figure size 864x432 with 1 Axes>"
      ]
     },
     "metadata": {
      "needs_background": "light"
     },
     "output_type": "display_data"
    }
   ],
   "source": [
    "# ACT9: Run k-means on MNIST data with k=2\n",
    "\n",
    "# your code here\n",
    "W, loss = k_means(Xt_train, 2)\n",
    "loss9, assoc = associate_centroids(Xt_train, W)\n",
    "\n",
    "reduced_data = PCA(n_components=2).fit_transform(Xt_train)\n",
    "\n",
    "z = plot_sample(reduced_data, assoc)"
   ]
  },
  {
   "cell_type": "markdown",
   "metadata": {},
   "source": [
    "Lets plot some representative samples from this clustering:"
   ]
  },
  {
   "cell_type": "code",
   "execution_count": 267,
   "metadata": {},
   "outputs": [],
   "source": [
    "cluster_0 = Xt_train[np.where(assoc==0)]\n",
    "cluster_1 = Xt_train[np.where(assoc==1)]"
   ]
  },
  {
   "cell_type": "code",
   "execution_count": 268,
   "metadata": {},
   "outputs": [
    {
     "data": {
      "image/png": "[encoded data removed]",
      "text/plain": [
       "<Figure size 1008x1008 with 5 Axes>"
      ]
     },
     "metadata": {
      "needs_background": "light"
     },
     "output_type": "display_data"
    }
   ],
   "source": [
    "fig, axs = plt.subplots(1, 5)\n",
    "fig.set_size_inches(14,14)\n",
    "for i, ax in enumerate(axs):\n",
    "    ax.imshow(cluster_0[i].reshape(8,8), cmap=\"gray\")"
   ]
  },
  {
   "cell_type": "code",
   "execution_count": 269,
   "metadata": {},
   "outputs": [
    {
     "data": {
      "image/png": "[encoded data removed]",
      "text/plain": [
       "<Figure size 1008x1008 with 5 Axes>"
      ]
     },
     "metadata": {
      "needs_background": "light"
     },
     "output_type": "display_data"
    }
   ],
   "source": [
    "fig, axs = plt.subplots(1, 5)\n",
    "fig.set_size_inches(14,14)\n",
    "for i, ax in enumerate(axs):\n",
    "    ax.imshow(cluster_1[i].reshape(8,8), cmap=\"gray\")"
   ]
  },
  {
   "cell_type": "markdown",
   "metadata": {},
   "source": [
    "Do the images in each cluster look similar? If the code is working correctly they hopefully should!  \n",
    "Note that the zero-th cluster might not correspond to the digit zero. If you were to use this system for digit classification, you'd manually have to look at some representatives of each cluster before, label them yourself, and then apply those labels to the rest of the data based on which cluster they belong to (this is still a lot more efficient than manually labeling a thousand numbers though)."
   ]
  },
  {
   "cell_type": "markdown",
   "metadata": {},
   "source": [
    "### ACT 10: More Elbow Curves\n",
    "Copy your code from ACT 8, and plot train and validation loss curves for this MNIST data."
   ]
  },
  {
   "cell_type": "code",
   "execution_count": 270,
   "metadata": {},
   "outputs": [
    {
     "data": {
      "text/plain": [
       "[<matplotlib.lines.Line2D at 0x2a54baecf48>]"
      ]
     },
     "execution_count": 270,
     "metadata": {},
     "output_type": "execute_result"
    },
    {
     "data": {
      "image/png": "[encoded data removed]",
      "text/plain": [
       "<Figure size 432x288 with 1 Axes>"
      ]
     },
     "metadata": {
      "needs_background": "light"
     },
     "output_type": "display_data"
    }
   ],
   "source": [
    "# Act10: build elbow curve of train + val losses\n",
    "\n",
    "import matplotlib.pyplot as plt\n",
    "train_mean = [0]*20\n",
    "val_mean = [0]*20\n",
    "loss_train = [0]*20\n",
    "loss_test = [0]*20\n",
    "\n",
    "k = np.array([i+1 for i in range(20)])\n",
    "for i in range(len(k)):\n",
    "    for j in range(len(k)):\n",
    "        W, loss_train[j] = k_means(Xt_train, k[i])\n",
    "        loss_test[j], assoc = associate_centroids(Xt_val, W)\n",
    "\n",
    "    train_mean[i] = sum(loss_train)/len(loss_train)\n",
    "    val_mean[i] = sum(loss_test)/len(loss_test)\n",
    "plt.plot(k, train_mean)\n",
    "plt.plot(k, val_mean)"
   ]
  },
  {
   "cell_type": "markdown",
   "metadata": {},
   "source": [
    "Do the loss curves above go down as the number of clusters increase? Despite this, why would it make no sense to pick a large value of K for an application like digit classification?"
   ]
  },
  {
   "cell_type": "markdown",
   "metadata": {},
   "source": [
    "#### <span style='color:cyan'>  Your answer here: AS cluster number increase the loss curve goes down, picking a large amount wont work here due to the fact that we have a limited number of digits and the number of K cluster is in correlation with that. Therefore, limited pixels means limited k-clusters. </span> "
   ]
  },
  {
   "cell_type": "code",
   "execution_count": null,
   "metadata": {},
   "outputs": [],
   "source": []
  }
 ],
 "metadata": {
  "colab": {
   "name": "PA2 solved.ipynb",
   "provenance": []
  },
  "kernelspec": {
   "display_name": "Python 3",
   "language": "python",
   "name": "python3"
  },
  "language_info": {
   "codemirror_mode": {
    "name": "ipython",
    "version": 3
   },
   "file_extension": ".py",
   "mimetype": "text/x-python",
   "name": "python",
   "nbconvert_exporter": "python",
   "pygments_lexer": "ipython3",
   "version": "3.7.6"
  }
 },
 "nbformat": 4,
 "nbformat_minor": 4
}
